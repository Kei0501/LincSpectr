{
  "cells": [
    {
      "cell_type": "code",
      "source": [
        "!git clone https://github.com/Kei0501/LincSpectr"
      ],
      "metadata": {
        "id": "qfScTWDxEnOq"
      },
      "execution_count": null,
      "outputs": []
    },
    {
      "cell_type": "code",
      "source": [
        "from google.colab import drive\n",
        "drive.mount('/content/drive')"
      ],
      "metadata": {
        "id": "QyLhjRIKFVU5"
      },
      "execution_count": null,
      "outputs": []
    },
    {
      "cell_type": "markdown",
      "metadata": {
        "id": "x-ZEuyAezlI8"
      },
      "source": [
        "#Installation"
      ]
    },
    {
      "cell_type": "code",
      "source": [
        "!pip install scanpy==1.9.6 ssqueezepy==0.6.4 pynwb==2.5.0"
      ],
      "metadata": {
        "id": "6NAshHp2EpO0"
      },
      "execution_count": null,
      "outputs": []
    },
    {
      "cell_type": "markdown",
      "metadata": {
        "id": "idijCckg1dsT"
      },
      "source": [
        "#Import packages"
      ]
    },
    {
      "cell_type": "code",
      "execution_count": null,
      "metadata": {
        "id": "KOaJJLKNlfTb"
      },
      "outputs": [],
      "source": [
        "import torch\n",
        "import torch.distributions as dist\n",
        "import torch.nn as nn\n",
        "from torch.nn.parameter import Parameter\n",
        "from torch import functional as F\n",
        "from torch.distributions.kl import kl_divergence\n",
        "from torch.nn import init\n",
        "from torchvision import transforms\n",
        "import numpy as np\n",
        "import pandas as pd\n",
        "import seaborn as sns\n",
        "import scanpy as sc\n",
        "from matplotlib import pyplot as plt\n",
        "import umap\n",
        "from ssqueezepy import ssq_cwt\n",
        "torch.cuda.is_available()\n",
        "\n",
        "import scipy.stats as stats\n",
        "import scipy.io as io\n",
        "import scipy.signal as signal\n",
        "from scipy.optimize import curve_fit\n",
        "from scipy import integrate\n",
        "import logging\n",
        "import importlib\n",
        "import os\n",
        "import warnings\n",
        "from PIL import Image\n",
        "from pynwb import NWBHDF5IO\n",
        "import random\n",
        "from functorch import vmap\n",
        "from functorch import vjp\n",
        "from tqdm import tqdm\n",
        "\n",
        "sns.set_style()\n",
        "\n",
        "import matplotlib as mpl\n",
        "mpl.rcParams['pdf.fonttype'] = 42\n",
        "\n",
        "from sklearn import linear_model\n",
        "ransac = linear_model.RANSACRegressor()\n",
        "\n",
        "%matplotlib inline"
      ]
    },
    {
      "cell_type": "markdown",
      "metadata": {
        "id": "L0_B3Hx6yThZ"
      },
      "source": [
        "#Load data and preprocessing\n",
        "LincSpectr requires single-cell transcriptome data and CWT transformed electrophysiological data. After pre-processing, normalized counts are converted back to raw counts."
      ]
    },
    {
      "cell_type": "code",
      "source": [
        "#prepare transcriptome data\n",
        "#add RNA_family information and remove low quality data\n",
        "adata = sc.read_csv('./m1_patchseq_exon_counts.csv')\n",
        "plus_data = pd.read_table('./m1_patchseq_meta_data.csv',sep='\\t',index_col=1)\n",
        "adata = adata.T\n",
        "adata.obs = plus_data.loc[adata.obs_names]\n",
        "adata = adata[adata.obs[\"RNA family\"] != \"low quality\"]\n",
        "adata.layers['count'] = adata.X\n",
        "sc.pp.filter_cells(adata,min_counts=100)\n",
        "sc.pp.filter_genes(adata,min_cells=10)\n",
        "sc.pp.normalize_total(adata,target_sum=1e4)\n",
        "sc.pp.log1p(adata)\n",
        "sc.pp.highly_variable_genes(adata,n_top_genes=2000)"
      ],
      "metadata": {
        "id": "IAKMAisKqLiv"
      },
      "execution_count": null,
      "outputs": []
    },
    {
      "cell_type": "code",
      "source": [
        "#prepare electrophysiological data\n",
        "file_names = collect_filename(\"./000008/*\")\n",
        "transform_efeatures(file_names, \"./data_for_VAE/\")"
      ],
      "metadata": {
        "id": "6hxKb2Zm3We5"
      },
      "execution_count": null,
      "outputs": []
    },
    {
      "cell_type": "markdown",
      "metadata": {
        "id": "wL4-rF923r87"
      },
      "source": [
        "#Training model\n",
        "LincSpectr trains three models and estimates the electrophysiological features from transcriptomic features."
      ]
    },
    {
      "cell_type": "code",
      "execution_count": null,
      "metadata": {
        "colab": {
          "base_uri": "https://localhost:8080/"
        },
        "id": "pT8YanUoyOjO",
        "outputId": "ce93363c-53e6-40ed-b059-e650c1e379aa"
      },
      "outputs": [
        {
          "name": "stdout",
          "output_type": "stream",
          "text": [
            "loss_mode poisson\n",
            "Start Dynamics opt\n",
            "Dynamics opt patience 10\n",
            "val loss mean (post 10 epochs) at epoch 0 is 7.434419631958008\n",
            "Early Stopping! at 99 epoch\n",
            "Done Dynamics opt\n",
            "Dynamics_last_val_loss:5.581026554107666\n",
            "Dynamics_last_test_loss:11.45341682434082\n",
            "Start Kinetics opt\n",
            "Kinetics opt patience 10\n",
            "val loss mean (post 10 epochs) at epoch 0 is 5.602231502532959\n",
            "Early Stopping! at 23 epoch\n",
            "Done Kinetics opt\n",
            "Kinetics_last_val_loss:5.5755414962768555\n",
            "Kinetics_last_test_loss:11.440404891967773\n",
            "train_s_correlation 0.37785741099056397\n",
            "train_u_correlation 0.28100604102252885\n",
            "val_s_correlation 0.33543039621025844\n",
            "val_u_correlation 0.19849278860828423\n",
            "test_s_correlation 0.34006264804505393\n",
            "test_u_correlation 0.19878720975214437\n"
          ]
        }
      ],
      "source": [
        "workflow"
      ]
    },
    {
      "cell_type": "markdown",
      "metadata": {
        "id": "3teX43-N5JwU"
      },
      "source": [
        "#Visualization of latent space"
      ]
    },
    {
      "cell_type": "code",
      "source": [
        "t_test, e_test = [], []\n",
        "for i in range(len(dataset)):\n",
        "    t_test.append(dataset[i][0])\n",
        "    e_test.append(dataset[i][1])\n",
        "test_x = torch.stack(t_test, dim = 0)\n",
        "test_xcell_id = torch.stack(e_test, dim = 0)\n",
        "test_x = test_x.to(device)\n",
        "test_xcell_id = test_xcell_id.to(device)\n",
        "\n",
        "t_vae.to(device)\n",
        "with torch.no_grad():\n",
        "    t_vae.eval()\n",
        "    tz, qz, xld = t_model(test_x)\n",
        "utils.make_umap(tz)"
      ],
      "metadata": {
        "id": "0GSdjroM5yP3"
      },
      "execution_count": null,
      "outputs": []
    },
    {
      "cell_type": "code",
      "source": [
        "e_vae.to(device)\n",
        "with torch.no_grad():\n",
        "    e_vae.eval()\n",
        "    ez, qz, ld_img = t_vae(test_xcell_id.view(-1,set_timeax*set_freqax))\n",
        "utils.make_umap(ez)"
      ],
      "metadata": {
        "id": "b_7wBXSO5zTW"
      },
      "execution_count": null,
      "outputs": []
    },
    {
      "cell_type": "markdown",
      "metadata": {
        "id": "a4FbS4T3Hs2S"
      },
      "source": [
        "#Estimate e-features from t-features"
      ]
    },
    {
      "cell_type": "code",
      "source": [
        "rand_num = random.randrange(len(valid_list))\n",
        "valid_sample1 = valid_list[rand_num]\n",
        "cell_name1 = './data_for_VAE/' + valid_sample1 + '.npy'\n",
        "rand_num = random.randrange(len(valid_list))\n",
        "valid_sample2 = valid_list[rand_num]\n",
        "cell_name2 = './data_for_VAE/' + valid_sample2 + '.npy'\n",
        "\n",
        "utils.show_prediction(cell_name1, cell_name2)"
      ],
      "metadata": {
        "id": "sSeIhIJg5-R0"
      },
      "execution_count": null,
      "outputs": []
    },
    {
      "cell_type": "markdown",
      "metadata": {
        "id": "AQIOIZOlKsJ-"
      },
      "source": [
        "#Inverse analysis of the model"
      ]
    },
    {
      "cell_type": "code",
      "source": [
        "#Inverse analysis of Vip cells\n",
        "Vip, Lamp5, Pvalb, Sst, ET, IT, CT = utils.celltype_list(valid_list)\n",
        "avr_express = utils.average_expression(adata,Vip)\n",
        "image_shape = (128,128)\n",
        "u_pick, top_genes, top_expression = utils.inverse_analysis(avr_express, N=50, image_shape)"
      ],
      "metadata": {
        "id": "4WYOKpCD6bkb"
      },
      "execution_count": null,
      "outputs": []
    },
    {
      "cell_type": "code",
      "source": [
        "u_pick = u_pick.reshape(np.load(sample_data).shape)\n",
        "upick_image = u_pick.to('cpu').detach().numpy().copy()\n",
        "plt.figure(figsize=(10,8))\n",
        "plt.imshow(upick_image, aspect='auto', cmap='turbo', vmin=0)"
      ],
      "metadata": {
        "id": "5FPiiuac9qfU"
      },
      "execution_count": null,
      "outputs": []
    },
    {
      "cell_type": "code",
      "source": [
        "plt.bar(top_genes,top_exoression)\n",
        "plt.xticks(rotation=45)"
      ],
      "metadata": {
        "id": "Ox0MQu02-Xli"
      },
      "execution_count": null,
      "outputs": []
    },
    {
      "cell_type": "code",
      "source": [
        "for top_gene in top_genes:\n",
        "    print(top_gene)"
      ],
      "metadata": {
        "id": "YdER-bc7_V2z"
      },
      "execution_count": null,
      "outputs": []
    }
  ],
  "metadata": {
    "accelerator": "GPU",
    "colab": {
      "gpuType": "A100",
      "provenance": []
    },
    "kernelspec": {
      "display_name": "vicdyf-env",
      "language": "python",
      "name": "python3"
    },
    "language_info": {
      "name": "python",
      "version": "3.8.10 (default, May 26 2023, 14:05:08) \n[GCC 9.4.0]"
    },
    "vscode": {
      "interpreter": {
        "hash": "1163ed2fdbcb645b9c2bbb9d95a23dccb6c531fd3d87ba6e10ef8eff1123e1a2"
      }
    }
  },
  "nbformat": 4,
  "nbformat_minor": 0
}
