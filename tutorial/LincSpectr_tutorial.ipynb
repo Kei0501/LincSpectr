{
  "cells": [
    {
      "cell_type": "code",
      "execution_count": null,
      "metadata": {
        "id": "qfScTWDxEnOq"
      },
      "outputs": [],
      "source": [
        "!git clone https://github.com/Kei0501/LincSpectr"
      ]
    },
    {
      "cell_type": "markdown",
      "metadata": {
        "id": "x-ZEuyAezlI8"
      },
      "source": [
        "# Installation"
      ]
    },
    {
      "cell_type": "code",
      "execution_count": null,
      "metadata": {
        "id": "6NAshHp2EpO0"
      },
      "outputs": [],
      "source": [
        "!pip install scanpy==1.9.6 ssqueezepy==0.6.4 pynwb==2.5.0"
      ]
    },
    {
      "cell_type": "markdown",
      "metadata": {
        "id": "idijCckg1dsT"
      },
      "source": [
        "# Import packages"
      ]
    },
    {
      "cell_type": "code",
      "execution_count": null,
      "metadata": {
        "id": "KOaJJLKNlfTb"
      },
      "outputs": [],
      "source": [
        "import numpy as np\n",
        "import random\n",
        "import torch\n",
        "import umap\n",
        "import seaborn as sns\n",
        "%matplotlib inline\n",
        "from matplotlib import pyplot as plt\n",
        "\n",
        "import utils\n",
        "import modules"
      ]
    },
    {
      "cell_type": "markdown",
      "metadata": {
        "id": "L0_B3Hx6yThZ"
      },
      "source": [
        "# Load data and preprocessing\n",
        "LincSpectr requires single-cell transcriptome data and CWT transformed electrophysiological data. Transcriptome data were processed in workflow.py.\n",
        "CWT transformed electrophysiological data were saved as npy format."
      ]
    },
    {
      "cell_type": "code",
      "execution_count": null,
      "metadata": {
        "id": "6hxKb2Zm3We5"
      },
      "outputs": [],
      "source": [
        "#prepare electrophysiological data\n",
        "file_names = utils.collect_filename(\"./000008/*\")\n",
        "cell_list = utils.collect_cellname(file_names)\n",
        "utils.transform_efeatures(file_names, \"./data_for_VAE/\",cell_list)"
      ]
    },
    {
      "cell_type": "markdown",
      "metadata": {
        "id": "wL4-rF923r87"
      },
      "source": [
        "# Training model\n",
        "LincSpectr trains three models and estimates the electrophysiological features from transcriptomic features."
      ]
    },
    {
      "cell_type": "code",
      "execution_count": null,
      "metadata": {},
      "outputs": [],
      "source": [
        "import workflow"
      ]
    },
    {
      "cell_type": "code",
      "execution_count": null,
      "metadata": {},
      "outputs": [],
      "source": [
        "t_vae = workflow.t_vae\n",
        "e_vae = workflow.e_vae\n",
        "linkz_model = workflow.linkz_model"
      ]
    },
    {
      "cell_type": "markdown",
      "metadata": {
        "id": "3teX43-N5JwU"
      },
      "source": [
        "# Visualization of latent space"
      ]
    },
    {
      "cell_type": "code",
      "execution_count": null,
      "metadata": {
        "id": "0GSdjroM5yP3"
      },
      "outputs": [],
      "source": [
        "t_test, e_test = [], []\n",
        "for i in range(len(workflow.dataset)):\n",
        "    t_test.append(workflow.dataset[i][0])\n",
        "    e_test.append(workflow.dataset[i][1])\n",
        "test_x = torch.stack(t_test, dim = 0)\n",
        "test_xcell_id = torch.stack(e_test, dim = 0)\n",
        "test_x = test_x.to(workflow.device)\n",
        "test_xcell_id = test_xcell_id.to(workflow.device)\n",
        "\n",
        "t_vae.to(workflow.device)\n",
        "with torch.no_grad():\n",
        "    t_vae.eval()\n",
        "    tz, qz, xld = t_vae(test_x)\n",
        "\n",
        "reducer = umap.UMAP(n_neighbors=15,min_dist=0.01)\n",
        "embedding = reducer.fit_transform(tz.cpu().detach().numpy())\n",
        "\n",
        "sns.scatterplot(x = embedding[:,0],y = embedding[:,1],hue=workflow.adata.obs['RNA family'])\n",
        "plt.legend(loc='upper left',bbox_to_anchor=(1.0,1.0))"
      ]
    },
    {
      "cell_type": "code",
      "execution_count": null,
      "metadata": {
        "id": "b_7wBXSO5zTW"
      },
      "outputs": [],
      "source": [
        "e_vae.to(workflow.device)\n",
        "with torch.no_grad():\n",
        "    e_vae.eval()\n",
        "    ez, qz, ld_img = e_vae(test_xcell_id.view(-1,workflow.set_timeax*workflow.set_freqax))\n",
        "reducer = umap.UMAP(n_neighbors=15,min_dist=0.1)\n",
        "embedding = reducer.fit_transform(ez.cpu().detach().numpy())\n",
        "\n",
        "sns.scatterplot(x = embedding[:,0],y = embedding[:,1],hue=workflow.adata.obs['RNA family'])\n",
        "plt.legend(loc='upper left',bbox_to_anchor=(1.0,1.0))"
      ]
    },
    {
      "cell_type": "markdown",
      "metadata": {
        "id": "a4FbS4T3Hs2S"
      },
      "source": [
        "# Estimate e-features from t-features"
      ]
    },
    {
      "cell_type": "code",
      "execution_count": null,
      "metadata": {},
      "outputs": [],
      "source": [
        "LincSpectr = modules.LincSpectr"
      ]
    },
    {
      "cell_type": "code",
      "execution_count": null,
      "metadata": {},
      "outputs": [],
      "source": [
        "rand_num = random.randrange(len(workflow.valid_list))\n",
        "cell_name1 = workflow.valid_list[rand_num]\n",
        "rand_num = random.randrange(len(workflow.valid_list))\n",
        "cell_name2 = workflow.valid_list[rand_num]\n",
        "sample_data = \"./data_for_VAE/20171204_sample_2.npy\"\n",
        "utils.show_prediction(sample_data,cell_name1, cell_name2,workflow.adata,LincSpectr,t_vae,e_vae,linkz_model,workflow.val_ez_train,workflow.val_ez)"
      ]
    },
    {
      "cell_type": "markdown",
      "metadata": {
        "id": "AQIOIZOlKsJ-"
      },
      "source": [
        "# Inverse analysis of the model"
      ]
    },
    {
      "cell_type": "code",
      "execution_count": null,
      "metadata": {
        "id": "4WYOKpCD6bkb"
      },
      "outputs": [],
      "source": [
        "#Inverse analysis of Vip cells\n",
        "avr_express = utils.average_expression(workflow.adata,workflow.count_mat,\"Vip\")\n",
        "image_shape = (workflow.set_timeax,workflow.set_freqax)\n",
        "u_pick, top_genes, top_expression = utils.inverse_analysis(avr_express,workflow.adata,LincSpectr,t_vae,e_vae,linkz_model,workflow.val_ez_train,workflow.val_ez,N=10, image_shape=image_shape)"
      ]
    },
    {
      "cell_type": "code",
      "execution_count": null,
      "metadata": {
        "id": "5FPiiuac9qfU"
      },
      "outputs": [],
      "source": [
        "u_pick = u_pick.reshape(np.load(sample_data).shape)\n",
        "upick_image = u_pick.to('cpu').detach().numpy().copy()\n",
        "plt.figure(figsize=(10,8))\n",
        "plt.imshow(upick_image, aspect='auto', cmap='turbo', vmin=0)"
      ]
    },
    {
      "cell_type": "code",
      "execution_count": null,
      "metadata": {
        "id": "Ox0MQu02-Xli"
      },
      "outputs": [],
      "source": [
        "plt.bar(top_genes,top_expression)\n",
        "plt.xticks(rotation=45)\n",
        "plt.show()"
      ]
    },
    {
      "cell_type": "code",
      "execution_count": null,
      "metadata": {
        "id": "YdER-bc7_V2z"
      },
      "outputs": [],
      "source": [
        "for top_gene in top_genes:\n",
        "    print(top_gene)"
      ]
    }
  ],
  "metadata": {
    "accelerator": "GPU",
    "colab": {
      "gpuType": "A100",
      "provenance": []
    },
    "kernelspec": {
      "display_name": "scanpy",
      "language": "python",
      "name": "python3"
    },
    "language_info": {
      "codemirror_mode": {
        "name": "ipython",
        "version": 3
      },
      "file_extension": ".py",
      "mimetype": "text/x-python",
      "name": "python",
      "nbconvert_exporter": "python",
      "pygments_lexer": "ipython3",
      "version": "3.10.4"
    }
  },
  "nbformat": 4,
  "nbformat_minor": 0
}
