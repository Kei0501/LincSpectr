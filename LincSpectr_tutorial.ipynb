{
  "cells": [
    {
      "cell_type": "code",
      "execution_count": 1,
      "metadata": {
        "id": "qfScTWDxEnOq"
      },
      "outputs": [
        {
          "name": "stdout",
          "output_type": "stream",
          "text": [
            "Cloning into 'LincSpectr'...\n",
            "remote: Enumerating objects: 334, done.\u001b[K\n",
            "remote: Counting objects: 100% (168/168), done.\u001b[K\n",
            "remote: Compressing objects: 100% (158/158), done.\u001b[K\n",
            "remote: Total 334 (delta 96), reused 0 (delta 0), pack-reused 166\u001b[K\n",
            "Receiving objects: 100% (334/334), 1.92 MiB | 14.59 MiB/s, done.\n",
            "Resolving deltas: 100% (200/200), done.\n"
          ]
        }
      ],
      "source": [
        "!git clone https://github.com/Kei0501/LincSpectr"
      ]
    },
    {
      "cell_type": "markdown",
      "metadata": {
        "id": "x-ZEuyAezlI8"
      },
      "source": [
        "# Installation"
      ]
    },
    {
      "cell_type": "code",
      "execution_count": 3,
      "metadata": {
        "id": "6NAshHp2EpO0"
      },
      "outputs": [
        {
          "name": "stdout",
          "output_type": "stream",
          "text": [
            "Requirement already satisfied: scanpy==1.9.6 in /Users/kei/miniconda3/envs/scanpy/lib/python3.10/site-packages (1.9.6)\n",
            "Requirement already satisfied: ssqueezepy==0.6.4 in /Users/kei/miniconda3/envs/scanpy/lib/python3.10/site-packages (0.6.4)\n",
            "Requirement already satisfied: pynwb==2.5.0 in /Users/kei/miniconda3/envs/scanpy/lib/python3.10/site-packages (2.5.0)\n",
            "Requirement already satisfied: torch==1.13.0 in /Users/kei/miniconda3/envs/scanpy/lib/python3.10/site-packages (1.13.0)\n",
            "Requirement already satisfied: matplotlib==3.5.1 in /Users/kei/miniconda3/envs/scanpy/lib/python3.10/site-packages (3.5.1)\n",
            "Requirement already satisfied: anndata==0.8.0 in /Users/kei/miniconda3/envs/scanpy/lib/python3.10/site-packages (0.8.0)\n",
            "Requirement already satisfied: seaborn==0.11.2 in /Users/kei/miniconda3/envs/scanpy/lib/python3.10/site-packages (0.11.2)\n",
            "Requirement already satisfied: pandas!=2.1.2,>=1.1.1 in /Users/kei/miniconda3/envs/scanpy/lib/python3.10/site-packages (from scanpy==1.9.6) (1.4.2)\n",
            "Requirement already satisfied: session-info in /Users/kei/miniconda3/envs/scanpy/lib/python3.10/site-packages (from scanpy==1.9.6) (1.0.0)\n",
            "Requirement already satisfied: joblib in /Users/kei/miniconda3/envs/scanpy/lib/python3.10/site-packages (from scanpy==1.9.6) (1.1.0)\n",
            "Requirement already satisfied: networkx>=2.3 in /Users/kei/miniconda3/envs/scanpy/lib/python3.10/site-packages (from scanpy==1.9.6) (2.8)\n",
            "Requirement already satisfied: packaging in /Users/kei/miniconda3/envs/scanpy/lib/python3.10/site-packages (from scanpy==1.9.6) (21.3)\n",
            "Requirement already satisfied: numba>=0.41.0 in /Users/kei/miniconda3/envs/scanpy/lib/python3.10/site-packages (from scanpy==1.9.6) (0.55.1)\n",
            "Requirement already satisfied: tqdm in /Users/kei/miniconda3/envs/scanpy/lib/python3.10/site-packages (from scanpy==1.9.6) (4.64.0)\n",
            "Requirement already satisfied: scipy>=1.4 in /Users/kei/miniconda3/envs/scanpy/lib/python3.10/site-packages (from scanpy==1.9.6) (1.8.0)\n",
            "Requirement already satisfied: h5py>=3 in /Users/kei/miniconda3/envs/scanpy/lib/python3.10/site-packages (from scanpy==1.9.6) (3.6.0)\n",
            "Requirement already satisfied: patsy in /Users/kei/miniconda3/envs/scanpy/lib/python3.10/site-packages (from scanpy==1.9.6) (0.5.2)\n",
            "Requirement already satisfied: statsmodels>=0.10.0rc2 in /Users/kei/miniconda3/envs/scanpy/lib/python3.10/site-packages (from scanpy==1.9.6) (0.13.2)\n",
            "Requirement already satisfied: scikit-learn>=0.24 in /Users/kei/miniconda3/envs/scanpy/lib/python3.10/site-packages (from scanpy==1.9.6) (1.0.2)\n",
            "Requirement already satisfied: numpy>=1.17.0 in /Users/kei/miniconda3/envs/scanpy/lib/python3.10/site-packages (from scanpy==1.9.6) (1.21.6)\n",
            "Requirement already satisfied: natsort in /Users/kei/miniconda3/envs/scanpy/lib/python3.10/site-packages (from scanpy==1.9.6) (8.1.0)\n",
            "Requirement already satisfied: umap-learn>=0.3.10 in /Users/kei/miniconda3/envs/scanpy/lib/python3.10/site-packages (from scanpy==1.9.6) (0.5.3)\n",
            "Requirement already satisfied: hdmf>=3.9.0 in /Users/kei/miniconda3/envs/scanpy/lib/python3.10/site-packages (from pynwb==2.5.0) (3.12.2)\n",
            "Requirement already satisfied: setuptools in /Users/kei/miniconda3/envs/scanpy/lib/python3.10/site-packages (from pynwb==2.5.0) (62.1.0)\n",
            "Requirement already satisfied: python-dateutil>=2.7.3 in /Users/kei/miniconda3/envs/scanpy/lib/python3.10/site-packages (from pynwb==2.5.0) (2.8.2)\n",
            "Requirement already satisfied: typing-extensions in /Users/kei/miniconda3/envs/scanpy/lib/python3.10/site-packages (from torch==1.13.0) (4.2.0)\n",
            "Requirement already satisfied: pillow>=6.2.0 in /Users/kei/miniconda3/envs/scanpy/lib/python3.10/site-packages (from matplotlib==3.5.1) (9.1.0)\n",
            "Requirement already satisfied: fonttools>=4.22.0 in /Users/kei/miniconda3/envs/scanpy/lib/python3.10/site-packages (from matplotlib==3.5.1) (4.33.3)\n",
            "Requirement already satisfied: pyparsing>=2.2.1 in /Users/kei/miniconda3/envs/scanpy/lib/python3.10/site-packages (from matplotlib==3.5.1) (3.0.8)\n",
            "Requirement already satisfied: cycler>=0.10 in /Users/kei/miniconda3/envs/scanpy/lib/python3.10/site-packages (from matplotlib==3.5.1) (0.11.0)\n",
            "Requirement already satisfied: kiwisolver>=1.0.1 in /Users/kei/miniconda3/envs/scanpy/lib/python3.10/site-packages (from matplotlib==3.5.1) (1.4.2)\n",
            "Requirement already satisfied: ruamel-yaml>=0.16 in /Users/kei/miniconda3/envs/scanpy/lib/python3.10/site-packages (from hdmf>=3.9.0->pynwb==2.5.0) (0.17.21)\n",
            "Requirement already satisfied: jsonschema>=2.6.0 in /Users/kei/miniconda3/envs/scanpy/lib/python3.10/site-packages (from hdmf>=3.9.0->pynwb==2.5.0) (4.6.0)\n",
            "Requirement already satisfied: llvmlite<0.39,>=0.38.0rc1 in /Users/kei/miniconda3/envs/scanpy/lib/python3.10/site-packages (from numba>=0.41.0->scanpy==1.9.6) (0.38.0)\n",
            "Requirement already satisfied: pytz>=2020.1 in /Users/kei/miniconda3/envs/scanpy/lib/python3.10/site-packages (from pandas!=2.1.2,>=1.1.1->scanpy==1.9.6) (2022.1)\n",
            "Requirement already satisfied: six>=1.5 in /Users/kei/miniconda3/envs/scanpy/lib/python3.10/site-packages (from python-dateutil>=2.7.3->pynwb==2.5.0) (1.16.0)\n",
            "Requirement already satisfied: threadpoolctl>=2.0.0 in /Users/kei/miniconda3/envs/scanpy/lib/python3.10/site-packages (from scikit-learn>=0.24->scanpy==1.9.6) (3.1.0)\n",
            "Requirement already satisfied: pynndescent>=0.5 in /Users/kei/miniconda3/envs/scanpy/lib/python3.10/site-packages (from umap-learn>=0.3.10->scanpy==1.9.6) (0.5.6)\n",
            "Requirement already satisfied: stdlib-list in /Users/kei/miniconda3/envs/scanpy/lib/python3.10/site-packages (from session-info->scanpy==1.9.6) (0.7.0)\n",
            "Requirement already satisfied: attrs>=17.4.0 in /Users/kei/miniconda3/envs/scanpy/lib/python3.10/site-packages (from jsonschema>=2.6.0->hdmf>=3.9.0->pynwb==2.5.0) (21.4.0)\n",
            "Requirement already satisfied: pyrsistent!=0.17.0,!=0.17.1,!=0.17.2,>=0.14.0 in /Users/kei/miniconda3/envs/scanpy/lib/python3.10/site-packages (from jsonschema>=2.6.0->hdmf>=3.9.0->pynwb==2.5.0) (0.18.1)\n",
            "Requirement already satisfied: ruamel.yaml.clib>=0.2.6 in /Users/kei/miniconda3/envs/scanpy/lib/python3.10/site-packages (from ruamel-yaml>=0.16->hdmf>=3.9.0->pynwb==2.5.0) (0.2.6)\n"
          ]
        }
      ],
      "source": [
        "!pip install scanpy==1.9.6 ssqueezepy==0.6.4 pynwb==2.5.0 torch==1.13.0 matplotlib==3.5.1 anndata==0.8.0 seaborn==0.11.2"
      ]
    },
    {
      "cell_type": "markdown",
      "metadata": {
        "id": "idijCckg1dsT"
      },
      "source": [
        "# Import packages"
      ]
    },
    {
      "cell_type": "code",
      "execution_count": 1,
      "metadata": {
        "id": "KOaJJLKNlfTb"
      },
      "outputs": [],
      "source": [
        "import numpy as np\n",
        "import random\n",
        "import torch\n",
        "import umap\n",
        "import seaborn as sns\n",
        "%matplotlib inline\n",
        "from matplotlib import pyplot as plt\n",
        "\n",
        "import utils\n",
        "import modules"
      ]
    },
    {
      "cell_type": "markdown",
      "metadata": {
        "id": "L0_B3Hx6yThZ"
      },
      "source": [
        "# Load data and preprocessing\n",
        "LincSpectr requires single-cell transcriptome data and CWT transformed electrophysiological data. Transcriptome data were processed in workflow.py.\n",
        "CWT transformed electrophysiological data were saved in npy format files.(This operation may take several hours.)"
      ]
    },
    {
      "cell_type": "code",
      "execution_count": null,
      "metadata": {
        "id": "6hxKb2Zm3We5"
      },
      "outputs": [],
      "source": [
        "#prepare electrophysiological data\n",
        "file_names = utils.collect_filename(\"./000008/*\")\n",
        "cell_list = utils.collect_cellname(file_names)\n",
        "utils.transform_efeatures(file_names, \"./data_for_VAE/\",cell_list)"
      ]
    },
    {
      "cell_type": "markdown",
      "metadata": {
        "id": "wL4-rF923r87"
      },
      "source": [
        "# Training model\n",
        "LincSpectr trains three models and estimates electrophysiological features from transcriptomic features."
      ]
    },
    {
      "cell_type": "code",
      "execution_count": 3,
      "metadata": {},
      "outputs": [
        {
          "name": "stderr",
          "output_type": "stream",
          "text": [
            "/Users/kei/miniconda3/envs/scanpy/lib/python3.10/site-packages/torchvision/io/image.py:13: UserWarning: Failed to load image Python extension: dlopen(/Users/kei/miniconda3/envs/scanpy/lib/python3.10/site-packages/torchvision/image.so, 6): Symbol not found: __ZN2at4_ops19empty_memory_format4callEN3c108ArrayRefIxEENS2_8optionalINS2_10ScalarTypeEEENS5_INS2_6LayoutEEENS5_INS2_6DeviceEEENS5_IbEENS5_INS2_12MemoryFormatEEE\n",
            "  Referenced from: /Users/kei/miniconda3/envs/scanpy/lib/python3.10/site-packages/torchvision/image.so\n",
            "  Expected in: /Users/kei/miniconda3/envs/scanpy/lib/python3.10/site-packages/torch/lib/libtorch_cpu.dylib\n",
            " in /Users/kei/miniconda3/envs/scanpy/lib/python3.10/site-packages/torchvision/image.so\n",
            "  warn(f\"Failed to load image Python extension: {e}\")\n",
            "  0%|          | 1/350 [00:00<05:23,  1.08it/s]"
          ]
        },
        {
          "name": "stdout",
          "output_type": "stream",
          "text": [
            "loss at epoch 0 is 83153192.0\n"
          ]
        },
        {
          "name": "stderr",
          "output_type": "stream",
          "text": [
            "  3%|▎         | 11/350 [00:04<02:05,  2.71it/s]"
          ]
        },
        {
          "name": "stdout",
          "output_type": "stream",
          "text": [
            "loss at epoch 10 is 55887700.0\n"
          ]
        },
        {
          "name": "stderr",
          "output_type": "stream",
          "text": [
            "  6%|▌         | 21/350 [00:08<01:58,  2.78it/s]"
          ]
        },
        {
          "name": "stdout",
          "output_type": "stream",
          "text": [
            "loss at epoch 20 is 49248588.0\n"
          ]
        },
        {
          "name": "stderr",
          "output_type": "stream",
          "text": [
            "  9%|▉         | 31/350 [00:11<01:52,  2.83it/s]"
          ]
        },
        {
          "name": "stdout",
          "output_type": "stream",
          "text": [
            "loss at epoch 30 is 45476924.0\n"
          ]
        },
        {
          "name": "stderr",
          "output_type": "stream",
          "text": [
            " 12%|█▏        | 41/350 [00:15<02:08,  2.40it/s]"
          ]
        },
        {
          "name": "stdout",
          "output_type": "stream",
          "text": [
            "loss at epoch 40 is 42880512.0\n"
          ]
        },
        {
          "name": "stderr",
          "output_type": "stream",
          "text": [
            " 15%|█▍        | 51/350 [00:19<01:56,  2.56it/s]"
          ]
        },
        {
          "name": "stdout",
          "output_type": "stream",
          "text": [
            "loss at epoch 50 is 40960060.0\n"
          ]
        },
        {
          "name": "stderr",
          "output_type": "stream",
          "text": [
            " 17%|█▋        | 61/350 [00:23<01:53,  2.55it/s]"
          ]
        },
        {
          "name": "stdout",
          "output_type": "stream",
          "text": [
            "loss at epoch 60 is 39389908.0\n"
          ]
        },
        {
          "name": "stderr",
          "output_type": "stream",
          "text": [
            " 20%|██        | 71/350 [00:27<01:47,  2.59it/s]"
          ]
        },
        {
          "name": "stdout",
          "output_type": "stream",
          "text": [
            "loss at epoch 70 is 37874792.0\n"
          ]
        },
        {
          "name": "stderr",
          "output_type": "stream",
          "text": [
            " 23%|██▎       | 81/350 [00:30<01:41,  2.65it/s]"
          ]
        },
        {
          "name": "stdout",
          "output_type": "stream",
          "text": [
            "loss at epoch 80 is 37253032.0\n"
          ]
        },
        {
          "name": "stderr",
          "output_type": "stream",
          "text": [
            " 26%|██▌       | 91/350 [00:34<01:38,  2.64it/s]"
          ]
        },
        {
          "name": "stdout",
          "output_type": "stream",
          "text": [
            "loss at epoch 90 is 35591652.0\n"
          ]
        },
        {
          "name": "stderr",
          "output_type": "stream",
          "text": [
            " 29%|██▉       | 101/350 [00:38<01:37,  2.55it/s]"
          ]
        },
        {
          "name": "stdout",
          "output_type": "stream",
          "text": [
            "loss at epoch 100 is 34493556.0\n"
          ]
        },
        {
          "name": "stderr",
          "output_type": "stream",
          "text": [
            " 32%|███▏      | 111/350 [00:42<01:34,  2.52it/s]"
          ]
        },
        {
          "name": "stdout",
          "output_type": "stream",
          "text": [
            "loss at epoch 110 is 33503732.0\n"
          ]
        },
        {
          "name": "stderr",
          "output_type": "stream",
          "text": [
            " 35%|███▍      | 121/350 [00:46<01:30,  2.52it/s]"
          ]
        },
        {
          "name": "stdout",
          "output_type": "stream",
          "text": [
            "loss at epoch 120 is 32803868.0\n"
          ]
        },
        {
          "name": "stderr",
          "output_type": "stream",
          "text": [
            " 37%|███▋      | 131/350 [00:50<01:27,  2.51it/s]"
          ]
        },
        {
          "name": "stdout",
          "output_type": "stream",
          "text": [
            "loss at epoch 130 is 32312702.0\n"
          ]
        },
        {
          "name": "stderr",
          "output_type": "stream",
          "text": [
            " 40%|████      | 141/350 [00:54<01:21,  2.57it/s]"
          ]
        },
        {
          "name": "stdout",
          "output_type": "stream",
          "text": [
            "loss at epoch 140 is 31562418.0\n"
          ]
        },
        {
          "name": "stderr",
          "output_type": "stream",
          "text": [
            " 43%|████▎     | 151/350 [00:58<01:18,  2.52it/s]"
          ]
        },
        {
          "name": "stdout",
          "output_type": "stream",
          "text": [
            "loss at epoch 150 is 31116242.0\n"
          ]
        },
        {
          "name": "stderr",
          "output_type": "stream",
          "text": [
            " 46%|████▌     | 161/350 [01:02<01:20,  2.34it/s]"
          ]
        },
        {
          "name": "stdout",
          "output_type": "stream",
          "text": [
            "loss at epoch 160 is 30498512.0\n"
          ]
        },
        {
          "name": "stderr",
          "output_type": "stream",
          "text": [
            " 49%|████▉     | 171/350 [01:06<01:13,  2.43it/s]"
          ]
        },
        {
          "name": "stdout",
          "output_type": "stream",
          "text": [
            "loss at epoch 170 is 30282860.0\n"
          ]
        },
        {
          "name": "stderr",
          "output_type": "stream",
          "text": [
            " 52%|█████▏    | 181/350 [01:10<01:14,  2.27it/s]"
          ]
        },
        {
          "name": "stdout",
          "output_type": "stream",
          "text": [
            "loss at epoch 180 is 29866588.0\n"
          ]
        },
        {
          "name": "stderr",
          "output_type": "stream",
          "text": [
            " 55%|█████▍    | 191/350 [01:15<01:06,  2.41it/s]"
          ]
        },
        {
          "name": "stdout",
          "output_type": "stream",
          "text": [
            "loss at epoch 190 is 29609502.0\n"
          ]
        },
        {
          "name": "stderr",
          "output_type": "stream",
          "text": [
            " 57%|█████▋    | 201/350 [01:19<01:01,  2.42it/s]"
          ]
        },
        {
          "name": "stdout",
          "output_type": "stream",
          "text": [
            "loss at epoch 200 is 29351404.0\n"
          ]
        },
        {
          "name": "stderr",
          "output_type": "stream",
          "text": [
            " 60%|██████    | 211/350 [01:23<00:56,  2.46it/s]"
          ]
        },
        {
          "name": "stdout",
          "output_type": "stream",
          "text": [
            "loss at epoch 210 is 29291016.0\n"
          ]
        },
        {
          "name": "stderr",
          "output_type": "stream",
          "text": [
            " 63%|██████▎   | 221/350 [01:27<00:50,  2.54it/s]"
          ]
        },
        {
          "name": "stdout",
          "output_type": "stream",
          "text": [
            "loss at epoch 220 is 29152570.0\n"
          ]
        },
        {
          "name": "stderr",
          "output_type": "stream",
          "text": [
            " 66%|██████▌   | 231/350 [01:31<00:42,  2.79it/s]"
          ]
        },
        {
          "name": "stdout",
          "output_type": "stream",
          "text": [
            "loss at epoch 230 is 28740118.0\n"
          ]
        },
        {
          "name": "stderr",
          "output_type": "stream",
          "text": [
            " 69%|██████▉   | 241/350 [01:34<00:41,  2.60it/s]"
          ]
        },
        {
          "name": "stdout",
          "output_type": "stream",
          "text": [
            "loss at epoch 240 is 28339766.0\n"
          ]
        },
        {
          "name": "stderr",
          "output_type": "stream",
          "text": [
            " 72%|███████▏  | 251/350 [01:38<00:39,  2.53it/s]"
          ]
        },
        {
          "name": "stdout",
          "output_type": "stream",
          "text": [
            "loss at epoch 250 is 28333750.0\n"
          ]
        },
        {
          "name": "stderr",
          "output_type": "stream",
          "text": [
            " 75%|███████▍  | 261/350 [01:42<00:33,  2.65it/s]"
          ]
        },
        {
          "name": "stdout",
          "output_type": "stream",
          "text": [
            "loss at epoch 260 is 28043984.0\n"
          ]
        },
        {
          "name": "stderr",
          "output_type": "stream",
          "text": [
            " 77%|███████▋  | 271/350 [01:46<00:30,  2.62it/s]"
          ]
        },
        {
          "name": "stdout",
          "output_type": "stream",
          "text": [
            "loss at epoch 270 is 27870280.0\n"
          ]
        },
        {
          "name": "stderr",
          "output_type": "stream",
          "text": [
            " 80%|████████  | 281/350 [01:50<00:26,  2.60it/s]"
          ]
        },
        {
          "name": "stdout",
          "output_type": "stream",
          "text": [
            "loss at epoch 280 is 27846052.0\n"
          ]
        },
        {
          "name": "stderr",
          "output_type": "stream",
          "text": [
            " 83%|████████▎ | 291/350 [01:54<00:22,  2.61it/s]"
          ]
        },
        {
          "name": "stdout",
          "output_type": "stream",
          "text": [
            "loss at epoch 290 is 27591624.0\n"
          ]
        },
        {
          "name": "stderr",
          "output_type": "stream",
          "text": [
            " 86%|████████▌ | 301/350 [01:58<00:18,  2.63it/s]"
          ]
        },
        {
          "name": "stdout",
          "output_type": "stream",
          "text": [
            "loss at epoch 300 is 27505162.0\n"
          ]
        },
        {
          "name": "stderr",
          "output_type": "stream",
          "text": [
            " 89%|████████▉ | 311/350 [02:01<00:15,  2.59it/s]"
          ]
        },
        {
          "name": "stdout",
          "output_type": "stream",
          "text": [
            "loss at epoch 310 is 27354524.0\n"
          ]
        },
        {
          "name": "stderr",
          "output_type": "stream",
          "text": [
            " 92%|█████████▏| 321/350 [02:05<00:10,  2.79it/s]"
          ]
        },
        {
          "name": "stdout",
          "output_type": "stream",
          "text": [
            "loss at epoch 320 is 27262274.0\n"
          ]
        },
        {
          "name": "stderr",
          "output_type": "stream",
          "text": [
            " 95%|█████████▍| 331/350 [02:09<00:06,  2.80it/s]"
          ]
        },
        {
          "name": "stdout",
          "output_type": "stream",
          "text": [
            "loss at epoch 330 is 27010178.0\n"
          ]
        },
        {
          "name": "stderr",
          "output_type": "stream",
          "text": [
            " 97%|█████████▋| 341/350 [02:12<00:03,  2.78it/s]"
          ]
        },
        {
          "name": "stdout",
          "output_type": "stream",
          "text": [
            "loss at epoch 340 is 27165600.0\n"
          ]
        },
        {
          "name": "stderr",
          "output_type": "stream",
          "text": [
            "100%|██████████| 350/350 [02:15<00:00,  2.58it/s]\n",
            "  0%|          | 1/300 [00:10<50:55, 10.22s/it]"
          ]
        },
        {
          "name": "stdout",
          "output_type": "stream",
          "text": [
            "loss at epoch 0 is 2942687.25\n"
          ]
        },
        {
          "name": "stderr",
          "output_type": "stream",
          "text": [
            "  4%|▎         | 11/300 [01:57<52:46, 10.96s/it]"
          ]
        },
        {
          "name": "stdout",
          "output_type": "stream",
          "text": [
            "loss at epoch 10 is 2484974.75\n"
          ]
        },
        {
          "name": "stderr",
          "output_type": "stream",
          "text": [
            "  7%|▋         | 21/300 [03:41<49:37, 10.67s/it]"
          ]
        },
        {
          "name": "stdout",
          "output_type": "stream",
          "text": [
            "loss at epoch 20 is 2428307.5\n"
          ]
        },
        {
          "name": "stderr",
          "output_type": "stream",
          "text": [
            " 10%|█         | 31/300 [05:35<50:25, 11.25s/it]"
          ]
        },
        {
          "name": "stdout",
          "output_type": "stream",
          "text": [
            "loss at epoch 30 is 2396854.0\n"
          ]
        },
        {
          "name": "stderr",
          "output_type": "stream",
          "text": [
            " 14%|█▎        | 41/300 [07:32<49:56, 11.57s/it]"
          ]
        },
        {
          "name": "stdout",
          "output_type": "stream",
          "text": [
            "loss at epoch 40 is 2368738.5\n"
          ]
        },
        {
          "name": "stderr",
          "output_type": "stream",
          "text": [
            " 17%|█▋        | 51/300 [09:17<41:51, 10.09s/it]"
          ]
        },
        {
          "name": "stdout",
          "output_type": "stream",
          "text": [
            "loss at epoch 50 is 2345396.75\n"
          ]
        },
        {
          "name": "stderr",
          "output_type": "stream",
          "text": [
            " 20%|██        | 61/300 [10:55<39:32,  9.93s/it]"
          ]
        },
        {
          "name": "stdout",
          "output_type": "stream",
          "text": [
            "loss at epoch 60 is 2337513.25\n"
          ]
        },
        {
          "name": "stderr",
          "output_type": "stream",
          "text": [
            " 24%|██▎       | 71/300 [12:39<40:16, 10.55s/it]"
          ]
        },
        {
          "name": "stdout",
          "output_type": "stream",
          "text": [
            "loss at epoch 70 is 2327712.5\n"
          ]
        },
        {
          "name": "stderr",
          "output_type": "stream",
          "text": [
            " 27%|██▋       | 81/300 [14:28<41:00, 11.24s/it]"
          ]
        },
        {
          "name": "stdout",
          "output_type": "stream",
          "text": [
            "loss at epoch 80 is 2318475.5\n"
          ]
        },
        {
          "name": "stderr",
          "output_type": "stream",
          "text": [
            " 30%|███       | 91/300 [16:10<35:02, 10.06s/it]"
          ]
        },
        {
          "name": "stdout",
          "output_type": "stream",
          "text": [
            "loss at epoch 90 is 2319280.0\n"
          ]
        },
        {
          "name": "stderr",
          "output_type": "stream",
          "text": [
            " 34%|███▎      | 101/300 [17:52<34:17, 10.34s/it]"
          ]
        },
        {
          "name": "stdout",
          "output_type": "stream",
          "text": [
            "loss at epoch 100 is 2316646.25\n"
          ]
        },
        {
          "name": "stderr",
          "output_type": "stream",
          "text": [
            " 37%|███▋      | 111/300 [19:38<33:50, 10.74s/it]"
          ]
        },
        {
          "name": "stdout",
          "output_type": "stream",
          "text": [
            "loss at epoch 110 is 2320551.25\n"
          ]
        },
        {
          "name": "stderr",
          "output_type": "stream",
          "text": [
            " 40%|████      | 121/300 [21:23<31:43, 10.63s/it]"
          ]
        },
        {
          "name": "stdout",
          "output_type": "stream",
          "text": [
            "loss at epoch 120 is 2320784.0\n"
          ]
        },
        {
          "name": "stderr",
          "output_type": "stream",
          "text": [
            " 44%|████▎     | 131/300 [23:13<31:50, 11.30s/it]"
          ]
        },
        {
          "name": "stdout",
          "output_type": "stream",
          "text": [
            "loss at epoch 130 is 2320004.5\n"
          ]
        },
        {
          "name": "stderr",
          "output_type": "stream",
          "text": [
            " 47%|████▋     | 141/300 [25:01<29:11, 11.01s/it]"
          ]
        },
        {
          "name": "stdout",
          "output_type": "stream",
          "text": [
            "loss at epoch 140 is 2319946.5\n"
          ]
        },
        {
          "name": "stderr",
          "output_type": "stream",
          "text": [
            " 50%|█████     | 151/300 [26:52<27:35, 11.11s/it]"
          ]
        },
        {
          "name": "stdout",
          "output_type": "stream",
          "text": [
            "loss at epoch 150 is 2317938.5\n"
          ]
        },
        {
          "name": "stderr",
          "output_type": "stream",
          "text": [
            " 54%|█████▎    | 161/300 [28:39<25:02, 10.81s/it]"
          ]
        },
        {
          "name": "stdout",
          "output_type": "stream",
          "text": [
            "loss at epoch 160 is 2317132.25\n"
          ]
        },
        {
          "name": "stderr",
          "output_type": "stream",
          "text": [
            " 57%|█████▋    | 171/300 [30:32<24:01, 11.17s/it]"
          ]
        },
        {
          "name": "stdout",
          "output_type": "stream",
          "text": [
            "loss at epoch 170 is 2319322.0\n"
          ]
        },
        {
          "name": "stderr",
          "output_type": "stream",
          "text": [
            " 60%|██████    | 181/300 [32:15<19:41,  9.93s/it]"
          ]
        },
        {
          "name": "stdout",
          "output_type": "stream",
          "text": [
            "loss at epoch 180 is 2327158.25\n"
          ]
        },
        {
          "name": "stderr",
          "output_type": "stream",
          "text": [
            " 64%|██████▎   | 191/300 [34:02<19:36, 10.80s/it]"
          ]
        },
        {
          "name": "stdout",
          "output_type": "stream",
          "text": [
            "loss at epoch 190 is 2328626.5\n"
          ]
        },
        {
          "name": "stderr",
          "output_type": "stream",
          "text": [
            " 67%|██████▋   | 201/300 [35:49<17:59, 10.90s/it]"
          ]
        },
        {
          "name": "stdout",
          "output_type": "stream",
          "text": [
            "loss at epoch 200 is 2325200.25\n"
          ]
        },
        {
          "name": "stderr",
          "output_type": "stream",
          "text": [
            " 70%|███████   | 211/300 [37:36<15:56, 10.75s/it]"
          ]
        },
        {
          "name": "stdout",
          "output_type": "stream",
          "text": [
            "loss at epoch 210 is 2330519.5\n"
          ]
        },
        {
          "name": "stderr",
          "output_type": "stream",
          "text": [
            " 74%|███████▎  | 221/300 [39:26<14:21, 10.90s/it]"
          ]
        },
        {
          "name": "stdout",
          "output_type": "stream",
          "text": [
            "loss at epoch 220 is 2326426.75\n"
          ]
        },
        {
          "name": "stderr",
          "output_type": "stream",
          "text": [
            " 77%|███████▋  | 231/300 [41:10<11:53, 10.34s/it]"
          ]
        },
        {
          "name": "stdout",
          "output_type": "stream",
          "text": [
            "loss at epoch 230 is 2332924.5\n"
          ]
        },
        {
          "name": "stderr",
          "output_type": "stream",
          "text": [
            " 80%|████████  | 241/300 [43:03<11:21, 11.54s/it]"
          ]
        },
        {
          "name": "stdout",
          "output_type": "stream",
          "text": [
            "loss at epoch 240 is 2336508.0\n"
          ]
        },
        {
          "name": "stderr",
          "output_type": "stream",
          "text": [
            " 84%|████████▎ | 251/300 [45:02<09:40, 11.84s/it]"
          ]
        },
        {
          "name": "stdout",
          "output_type": "stream",
          "text": [
            "loss at epoch 250 is 2339981.0\n"
          ]
        },
        {
          "name": "stderr",
          "output_type": "stream",
          "text": [
            " 87%|████████▋ | 261/300 [46:56<07:22, 11.35s/it]"
          ]
        },
        {
          "name": "stdout",
          "output_type": "stream",
          "text": [
            "loss at epoch 260 is 2343734.0\n"
          ]
        },
        {
          "name": "stderr",
          "output_type": "stream",
          "text": [
            " 90%|█████████ | 271/300 [48:49<05:25, 11.21s/it]"
          ]
        },
        {
          "name": "stdout",
          "output_type": "stream",
          "text": [
            "loss at epoch 270 is 2345676.75\n"
          ]
        },
        {
          "name": "stderr",
          "output_type": "stream",
          "text": [
            " 94%|█████████▎| 281/300 [50:37<03:26, 10.89s/it]"
          ]
        },
        {
          "name": "stdout",
          "output_type": "stream",
          "text": [
            "loss at epoch 280 is 2342037.5\n"
          ]
        },
        {
          "name": "stderr",
          "output_type": "stream",
          "text": [
            " 97%|█████████▋| 291/300 [52:18<01:31, 10.13s/it]"
          ]
        },
        {
          "name": "stdout",
          "output_type": "stream",
          "text": [
            "loss at epoch 290 is 2344381.5\n"
          ]
        },
        {
          "name": "stderr",
          "output_type": "stream",
          "text": [
            "100%|██████████| 300/300 [53:48<00:00, 10.76s/it]\n",
            "100%|██████████| 1045/1045 [00:02<00:00, 502.22it/s]\n",
            "  0%|          | 1/350 [00:08<51:21,  8.83s/it]"
          ]
        },
        {
          "name": "stdout",
          "output_type": "stream",
          "text": [
            "loss at epoch 0 is 1555.447509765625\n"
          ]
        },
        {
          "name": "stderr",
          "output_type": "stream",
          "text": [
            "  3%|▎         | 11/350 [01:40<50:36,  8.96s/it]"
          ]
        },
        {
          "name": "stdout",
          "output_type": "stream",
          "text": [
            "loss at epoch 10 is 1466.7647705078125\n"
          ]
        },
        {
          "name": "stderr",
          "output_type": "stream",
          "text": [
            "  6%|▌         | 21/350 [03:09<50:13,  9.16s/it]"
          ]
        },
        {
          "name": "stdout",
          "output_type": "stream",
          "text": [
            "loss at epoch 20 is 1383.21875\n"
          ]
        },
        {
          "name": "stderr",
          "output_type": "stream",
          "text": [
            "  9%|▉         | 31/350 [04:41<50:52,  9.57s/it]"
          ]
        },
        {
          "name": "stdout",
          "output_type": "stream",
          "text": [
            "loss at epoch 30 is 1304.13916015625\n"
          ]
        },
        {
          "name": "stderr",
          "output_type": "stream",
          "text": [
            " 12%|█▏        | 41/350 [06:16<48:55,  9.50s/it]"
          ]
        },
        {
          "name": "stdout",
          "output_type": "stream",
          "text": [
            "loss at epoch 40 is 1229.228759765625\n"
          ]
        },
        {
          "name": "stderr",
          "output_type": "stream",
          "text": [
            " 15%|█▍        | 51/350 [07:45<43:09,  8.66s/it]"
          ]
        },
        {
          "name": "stdout",
          "output_type": "stream",
          "text": [
            "loss at epoch 50 is 1157.6744384765625\n"
          ]
        },
        {
          "name": "stderr",
          "output_type": "stream",
          "text": [
            " 17%|█▋        | 61/350 [09:18<47:07,  9.78s/it]"
          ]
        },
        {
          "name": "stdout",
          "output_type": "stream",
          "text": [
            "loss at epoch 60 is 1090.8355712890625\n"
          ]
        },
        {
          "name": "stderr",
          "output_type": "stream",
          "text": [
            " 20%|██        | 71/350 [10:56<43:56,  9.45s/it]"
          ]
        },
        {
          "name": "stdout",
          "output_type": "stream",
          "text": [
            "loss at epoch 70 is 1028.1614990234375\n"
          ]
        },
        {
          "name": "stderr",
          "output_type": "stream",
          "text": [
            " 23%|██▎       | 81/350 [12:30<43:37,  9.73s/it]"
          ]
        },
        {
          "name": "stdout",
          "output_type": "stream",
          "text": [
            "loss at epoch 80 is 969.121826171875\n"
          ]
        },
        {
          "name": "stderr",
          "output_type": "stream",
          "text": [
            " 26%|██▌       | 91/350 [14:04<38:14,  8.86s/it]"
          ]
        },
        {
          "name": "stdout",
          "output_type": "stream",
          "text": [
            "loss at epoch 90 is 915.1029052734375\n"
          ]
        },
        {
          "name": "stderr",
          "output_type": "stream",
          "text": [
            " 29%|██▉       | 101/350 [15:29<35:17,  8.50s/it]"
          ]
        },
        {
          "name": "stdout",
          "output_type": "stream",
          "text": [
            "loss at epoch 100 is 865.0667724609375\n"
          ]
        },
        {
          "name": "stderr",
          "output_type": "stream",
          "text": [
            " 32%|███▏      | 111/350 [16:54<33:47,  8.48s/it]"
          ]
        },
        {
          "name": "stdout",
          "output_type": "stream",
          "text": [
            "loss at epoch 110 is 819.558349609375\n"
          ]
        },
        {
          "name": "stderr",
          "output_type": "stream",
          "text": [
            " 35%|███▍      | 121/350 [18:20<32:35,  8.54s/it]"
          ]
        },
        {
          "name": "stdout",
          "output_type": "stream",
          "text": [
            "loss at epoch 120 is 778.585205078125\n"
          ]
        },
        {
          "name": "stderr",
          "output_type": "stream",
          "text": [
            " 37%|███▋      | 131/350 [19:45<30:51,  8.45s/it]"
          ]
        },
        {
          "name": "stdout",
          "output_type": "stream",
          "text": [
            "loss at epoch 130 is 742.31005859375\n"
          ]
        },
        {
          "name": "stderr",
          "output_type": "stream",
          "text": [
            " 40%|████      | 141/350 [21:09<29:23,  8.44s/it]"
          ]
        },
        {
          "name": "stdout",
          "output_type": "stream",
          "text": [
            "loss at epoch 140 is 710.549560546875\n"
          ]
        },
        {
          "name": "stderr",
          "output_type": "stream",
          "text": [
            " 43%|████▎     | 151/350 [22:34<28:28,  8.59s/it]"
          ]
        },
        {
          "name": "stdout",
          "output_type": "stream",
          "text": [
            "loss at epoch 150 is 682.982666015625\n"
          ]
        },
        {
          "name": "stderr",
          "output_type": "stream",
          "text": [
            " 46%|████▌     | 161/350 [23:59<26:26,  8.39s/it]"
          ]
        },
        {
          "name": "stdout",
          "output_type": "stream",
          "text": [
            "loss at epoch 160 is 659.2297973632812\n"
          ]
        },
        {
          "name": "stderr",
          "output_type": "stream",
          "text": [
            " 49%|████▉     | 171/350 [25:24<25:14,  8.46s/it]"
          ]
        },
        {
          "name": "stdout",
          "output_type": "stream",
          "text": [
            "loss at epoch 170 is 638.892578125\n"
          ]
        },
        {
          "name": "stderr",
          "output_type": "stream",
          "text": [
            " 52%|█████▏    | 181/350 [26:49<23:36,  8.38s/it]"
          ]
        },
        {
          "name": "stdout",
          "output_type": "stream",
          "text": [
            "loss at epoch 180 is 621.55859375\n"
          ]
        },
        {
          "name": "stderr",
          "output_type": "stream",
          "text": [
            " 55%|█████▍    | 191/350 [28:13<22:25,  8.46s/it]"
          ]
        },
        {
          "name": "stdout",
          "output_type": "stream",
          "text": [
            "loss at epoch 190 is 606.868896484375\n"
          ]
        },
        {
          "name": "stderr",
          "output_type": "stream",
          "text": [
            " 57%|█████▋    | 201/350 [29:38<21:05,  8.49s/it]"
          ]
        },
        {
          "name": "stdout",
          "output_type": "stream",
          "text": [
            "loss at epoch 200 is 594.40478515625\n"
          ]
        },
        {
          "name": "stderr",
          "output_type": "stream",
          "text": [
            " 60%|██████    | 211/350 [31:03<19:36,  8.47s/it]"
          ]
        },
        {
          "name": "stdout",
          "output_type": "stream",
          "text": [
            "loss at epoch 210 is 583.8147583007812\n"
          ]
        },
        {
          "name": "stderr",
          "output_type": "stream",
          "text": [
            " 63%|██████▎   | 221/350 [32:27<18:11,  8.46s/it]"
          ]
        },
        {
          "name": "stdout",
          "output_type": "stream",
          "text": [
            "loss at epoch 220 is 574.7922973632812\n"
          ]
        },
        {
          "name": "stderr",
          "output_type": "stream",
          "text": [
            " 66%|██████▌   | 231/350 [33:52<16:46,  8.46s/it]"
          ]
        },
        {
          "name": "stdout",
          "output_type": "stream",
          "text": [
            "loss at epoch 230 is 567.010498046875\n"
          ]
        },
        {
          "name": "stderr",
          "output_type": "stream",
          "text": [
            " 69%|██████▉   | 241/350 [35:17<15:24,  8.48s/it]"
          ]
        },
        {
          "name": "stdout",
          "output_type": "stream",
          "text": [
            "loss at epoch 240 is 560.3004760742188\n"
          ]
        },
        {
          "name": "stderr",
          "output_type": "stream",
          "text": [
            " 72%|███████▏  | 251/350 [36:41<13:57,  8.46s/it]"
          ]
        },
        {
          "name": "stdout",
          "output_type": "stream",
          "text": [
            "loss at epoch 250 is 554.5066528320312\n"
          ]
        },
        {
          "name": "stderr",
          "output_type": "stream",
          "text": [
            " 75%|███████▍  | 261/350 [38:09<12:48,  8.63s/it]"
          ]
        },
        {
          "name": "stdout",
          "output_type": "stream",
          "text": [
            "loss at epoch 260 is 549.432373046875\n"
          ]
        },
        {
          "name": "stderr",
          "output_type": "stream",
          "text": [
            " 77%|███████▋  | 271/350 [39:35<11:20,  8.61s/it]"
          ]
        },
        {
          "name": "stdout",
          "output_type": "stream",
          "text": [
            "loss at epoch 270 is 545.01025390625\n"
          ]
        },
        {
          "name": "stderr",
          "output_type": "stream",
          "text": [
            " 80%|████████  | 281/350 [41:01<09:55,  8.63s/it]"
          ]
        },
        {
          "name": "stdout",
          "output_type": "stream",
          "text": [
            "loss at epoch 280 is 541.1098022460938\n"
          ]
        },
        {
          "name": "stderr",
          "output_type": "stream",
          "text": [
            " 83%|████████▎ | 291/350 [42:27<08:27,  8.60s/it]"
          ]
        },
        {
          "name": "stdout",
          "output_type": "stream",
          "text": [
            "loss at epoch 290 is 537.6549682617188\n"
          ]
        },
        {
          "name": "stderr",
          "output_type": "stream",
          "text": [
            " 86%|████████▌ | 301/350 [43:53<07:00,  8.58s/it]"
          ]
        },
        {
          "name": "stdout",
          "output_type": "stream",
          "text": [
            "loss at epoch 300 is 534.5579833984375\n"
          ]
        },
        {
          "name": "stderr",
          "output_type": "stream",
          "text": [
            " 89%|████████▉ | 311/350 [45:19<05:37,  8.66s/it]"
          ]
        },
        {
          "name": "stdout",
          "output_type": "stream",
          "text": [
            "loss at epoch 310 is 531.8798828125\n"
          ]
        },
        {
          "name": "stderr",
          "output_type": "stream",
          "text": [
            " 92%|█████████▏| 321/350 [46:45<04:09,  8.60s/it]"
          ]
        },
        {
          "name": "stdout",
          "output_type": "stream",
          "text": [
            "loss at epoch 320 is 529.4886474609375\n"
          ]
        },
        {
          "name": "stderr",
          "output_type": "stream",
          "text": [
            " 95%|█████████▍| 331/350 [48:11<02:43,  8.60s/it]"
          ]
        },
        {
          "name": "stdout",
          "output_type": "stream",
          "text": [
            "loss at epoch 330 is 527.365234375\n"
          ]
        },
        {
          "name": "stderr",
          "output_type": "stream",
          "text": [
            " 97%|█████████▋| 341/350 [49:38<01:18,  8.77s/it]"
          ]
        },
        {
          "name": "stdout",
          "output_type": "stream",
          "text": [
            "loss at epoch 340 is 525.47509765625\n"
          ]
        },
        {
          "name": "stderr",
          "output_type": "stream",
          "text": [
            "100%|██████████| 350/350 [50:54<00:00,  8.73s/it]\n"
          ]
        }
      ],
      "source": [
        "import workflow"
      ]
    },
    {
      "cell_type": "code",
      "execution_count": 4,
      "metadata": {},
      "outputs": [],
      "source": [
        "#import the models\n",
        "t_vae = workflow.t_vae\n",
        "e_vae = workflow.e_vae\n",
        "linkz_model = workflow.linkz_model"
      ]
    },
    {
      "cell_type": "markdown",
      "metadata": {
        "id": "3teX43-N5JwU"
      },
      "source": [
        "# Visualization of latent spaces"
      ]
    },
    {
      "cell_type": "markdown",
      "metadata": {},
      "source": [
        "### UMAP representation of tVAE latent space"
      ]
    },
    {
      "cell_type": "code",
      "execution_count": 82,
      "metadata": {
        "id": "0GSdjroM5yP3"
      },
      "outputs": [
        {
          "data": {
            "text/plain": [
              "<matplotlib.legend.Legend at 0x28c019a80>"
            ]
          },
          "execution_count": 82,
          "metadata": {},
          "output_type": "execute_result"
        },
        {
          "data": {
            "image/png": "[encoded data removed]",
            "text/plain": [
              "<Figure size 432x288 with 1 Axes>"
            ]
          },
          "metadata": {
            "needs_background": "light"
          },
          "output_type": "display_data"
        }
      ],
      "source": [
        "t_test, e_test = [], []\n",
        "for i in range(len(workflow.dataset)):\n",
        "    t_test.append(workflow.dataset[i][0])\n",
        "    e_test.append(workflow.dataset[i][1])\n",
        "test_x = torch.stack(t_test, dim = 0)\n",
        "test_xcell_id = torch.stack(e_test, dim = 0)\n",
        "test_x = test_x.to(workflow.device)\n",
        "test_xcell_id = test_xcell_id.to(workflow.device)\n",
        "\n",
        "t_vae.to(workflow.device)\n",
        "with torch.no_grad():\n",
        "    t_vae.eval()\n",
        "    tz, qz, xld = t_vae(test_x)\n",
        "\n",
        "reducer = umap.UMAP(n_neighbors=15,min_dist=0.01)\n",
        "embedding = reducer.fit_transform(tz.cpu().detach().numpy())\n",
        "\n",
        "sns.scatterplot(x = embedding[:,0],y = embedding[:,1],hue=workflow.adata.obs['RNA family'])\n",
        "plt.legend(loc='upper left',bbox_to_anchor=(1.0,1.0))"
      ]
    },
    {
      "cell_type": "markdown",
      "metadata": {},
      "source": [
        "### UMAP representation of eVAE latent space"
      ]
    },
    {
      "cell_type": "code",
      "execution_count": 83,
      "metadata": {
        "id": "b_7wBXSO5zTW"
      },
      "outputs": [
        {
          "data": {
            "text/plain": [
              "<matplotlib.legend.Legend at 0x28fd925c0>"
            ]
          },
          "execution_count": 83,
          "metadata": {},
          "output_type": "execute_result"
        },
        {
          "data": {
            "image/png": "[encoded data removed]",
            "text/plain": [
              "<Figure size 432x288 with 1 Axes>"
            ]
          },
          "metadata": {
            "needs_background": "light"
          },
          "output_type": "display_data"
        }
      ],
      "source": [
        "e_vae.to(workflow.device)\n",
        "with torch.no_grad():\n",
        "    e_vae.eval()\n",
        "    ez, qz, ld_img = e_vae(test_xcell_id.view(-1,workflow.set_timeax*workflow.set_freqax))\n",
        "reducer = umap.UMAP(n_neighbors=15,min_dist=0.1)\n",
        "embedding = reducer.fit_transform(ez.cpu().detach().numpy())\n",
        "\n",
        "sns.scatterplot(x = embedding[:,0],y = embedding[:,1],hue=workflow.adata.obs['RNA family'])\n",
        "plt.legend(loc='upper left',bbox_to_anchor=(1.0,1.0))"
      ]
    },
    {
      "cell_type": "markdown",
      "metadata": {
        "id": "a4FbS4T3Hs2S"
      },
      "source": [
        "# Estimate e-features from t-features"
      ]
    },
    {
      "cell_type": "markdown",
      "metadata": {},
      "source": [
        "Display the real data and predicted data for 2 cells randomly selected from the validation dataset."
      ]
    },
    {
      "cell_type": "code",
      "execution_count": 7,
      "metadata": {},
      "outputs": [],
      "source": [
        "# load the LincSpectr model\n",
        "incSpectr = modules.LincSpectr"
      ]
    },
    {
      "cell_type": "code",
      "execution_count": 17,
      "metadata": {},
      "outputs": [
        {
          "data": {
            "image/png": "[encoded data removed]",
            "text/plain": [
              "<Figure size 432x288 with 4 Axes>"
            ]
          },
          "metadata": {
            "needs_background": "light"
          },
          "output_type": "display_data"
        }
      ],
      "source": [
        "rand_num = random.randrange(len(workflow.valid_list))\n",
        "cell_name1 = workflow.valid_list[rand_num]\n",
        "rand_num = random.randrange(len(workflow.valid_list))\n",
        "cell_name2 = workflow.valid_list[rand_num]\n",
        "sample_data = \"./data_for_VAE/20171204_sample_2.npy\"\n",
        "utils.show_prediction(sample_data,cell_name1, cell_name2,workflow.adata,LincSpectr,t_vae,e_vae,linkz_model,workflow.val_ez_train,workflow.val_ez)"
      ]
    },
    {
      "cell_type": "markdown",
      "metadata": {
        "id": "AQIOIZOlKsJ-"
      },
      "source": [
        "# Inverse analysis of the model"
      ]
    },
    {
      "cell_type": "code",
      "execution_count": 84,
      "metadata": {
        "id": "4WYOKpCD6bkb"
      },
      "outputs": [],
      "source": [
        "#Inverse analysis of the average Pvalb cell\n",
        "avr_express = utils.average_expression(workflow.adata,workflow.count_mat,\"Pvalb\")\n",
        "image_shape = (workflow.set_timeax,workflow.set_freqax)\n",
        "u_pick, top_genes, top_expression = utils.inverse_analysis(avr_express,workflow.adata,LincSpectr,t_vae,e_vae,linkz_model,workflow.val_ez_train,workflow.val_ez,N=50, image_shape=image_shape)"
      ]
    },
    {
      "cell_type": "code",
      "execution_count": 85,
      "metadata": {
        "id": "5FPiiuac9qfU"
      },
      "outputs": [
        {
          "data": {
            "text/plain": [
              "<matplotlib.image.AxesImage at 0x2f7e4fd30>"
            ]
          },
          "execution_count": 85,
          "metadata": {},
          "output_type": "execute_result"
        },
        {
          "data": {
            "image/png": "[encoded data removed]",
            "text/plain": [
              "<Figure size 720x576 with 1 Axes>"
            ]
          },
          "metadata": {
            "needs_background": "light"
          },
          "output_type": "display_data"
        }
      ],
      "source": [
        "u_pick = u_pick.reshape(np.load(sample_data).shape)\n",
        "upick_image = u_pick.to('cpu').detach().numpy().copy()\n",
        "plt.figure(figsize=(10,8))\n",
        "plt.imshow(upick_image, aspect='auto', cmap='turbo', vmin=0)"
      ]
    },
    {
      "cell_type": "markdown",
      "metadata": {},
      "source": [
        "The genes with large singular values included in the top 10 are shown in the bar graph."
      ]
    },
    {
      "cell_type": "code",
      "execution_count": 86,
      "metadata": {
        "id": "Ox0MQu02-Xli"
      },
      "outputs": [
        {
          "data": {
            "image/png": "[encoded data removed]",
            "text/plain": [
              "<Figure size 720x576 with 1 Axes>"
            ]
          },
          "metadata": {
            "needs_background": "light"
          },
          "output_type": "display_data"
        }
      ],
      "source": [
        "ten_genes = top_genes[:10]\n",
        "ten_expression = top_expression[:10]\n",
        "plt.figure(figsize=(10,8))\n",
        "plt.bar(ten_genes,ten_expression)\n",
        "plt.xticks(rotation=70,size=25)\n",
        "plt.yticks(size=20)\n",
        "plt.ylim(0,0.14)\n",
        "plt.show()"
      ]
    },
    {
      "cell_type": "code",
      "execution_count": 87,
      "metadata": {},
      "outputs": [
        {
          "name": "stdout",
          "output_type": "stream",
          "text": [
            "Sebox\n",
            "Osgin1\n",
            "Pigg\n",
            "Tnmd\n",
            "Ly86\n",
            "Il1rn\n",
            "Kbtbd8\n",
            "Crabp1\n",
            "Ddx60\n",
            "Wnt5b\n",
            "Btk\n",
            "Tnc\n",
            "Igsf6\n",
            "Glra2\n",
            "Gm33148\n",
            "2310002F09Rik\n",
            "Tbata\n",
            "D030056L22Rik\n",
            "Gpr6\n",
            "Ankrd34c\n",
            "Atp13a4\n",
            "Pdgfra\n",
            "Rgs1\n",
            "Traf1\n",
            "Lsp1\n",
            "Lcp1\n",
            "Il12b\n",
            "Zscan12\n",
            "Anxa3\n",
            "Aplf\n",
            "Nqo2\n",
            "Ecel1\n",
            "Tmem100\n",
            "Tpbg\n",
            "Egfr\n",
            "Casp8\n",
            "Aldh1a1\n",
            "Prim1\n",
            "Gimap6\n",
            "Ikbip\n",
            "Dock8\n",
            "Zfp185\n",
            "Ankef1\n",
            "Elf3\n",
            "Cela1\n",
            "Ermn\n",
            "Zfp11\n",
            "Mirt1\n",
            "Prps2\n",
            "Col24a1\n"
          ]
        }
      ],
      "source": [
        "for g in top_genes:\n",
        "    print(g)"
      ]
    }
  ],
  "metadata": {
    "accelerator": "GPU",
    "colab": {
      "gpuType": "A100",
      "provenance": []
    },
    "kernelspec": {
      "display_name": "scanpy",
      "language": "python",
      "name": "python3"
    },
    "language_info": {
      "codemirror_mode": {
        "name": "ipython",
        "version": 3
      },
      "file_extension": ".py",
      "mimetype": "text/x-python",
      "name": "python",
      "nbconvert_exporter": "python",
      "pygments_lexer": "ipython3",
      "version": "3.10.4"
    }
  },
  "nbformat": 4,
  "nbformat_minor": 0
}
